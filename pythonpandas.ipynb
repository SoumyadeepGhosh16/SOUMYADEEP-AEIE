{
 "cells": [
  {
   "cell_type": "code",
   "execution_count": 9,
   "metadata": {},
   "outputs": [
    {
     "ename": "AttributeError",
     "evalue": "module 'pandas' has no attribute 'series'",
     "output_type": "error",
     "traceback": [
      "\u001b[1;31m---------------------------------------------------------------------------\u001b[0m",
      "\u001b[1;31mAttributeError\u001b[0m                            Traceback (most recent call last)",
      "Cell \u001b[1;32mIn[9], line 23\u001b[0m\n\u001b[0;32m     20\u001b[0m         plt\u001b[39m.\u001b[39mlegend()\n\u001b[0;32m     21\u001b[0m         plt\u001b[39m.\u001b[39mshow()\n\u001b[1;32m---> 23\u001b[0m DataSeries\u001b[39m.\u001b[39;49mpandaSeries()\n",
      "Cell \u001b[1;32mIn[9], line 16\u001b[0m, in \u001b[0;36mDataSeries.pandaSeries\u001b[1;34m()\u001b[0m\n\u001b[0;32m     13\u001b[0m     y\u001b[39m=\u001b[39m\u001b[39minput\u001b[39m(\u001b[39m\"\u001b[39m\u001b[39mEnter the Names : \u001b[39m\u001b[39m\"\u001b[39m)\n\u001b[0;32m     14\u001b[0m     arr_2\u001b[39m.\u001b[39mappend(y)\n\u001b[1;32m---> 16\u001b[0m b\u001b[39m=\u001b[39m pd\u001b[39m.\u001b[39;49mseries(arr_1 , index\u001b[39m=\u001b[39m arr_2)\n\u001b[0;32m     17\u001b[0m \u001b[39mprint\u001b[39m(b)\n\u001b[0;32m     19\u001b[0m b\u001b[39m.\u001b[39mplot\u001b[39m.\u001b[39mpie(title\u001b[39m=\u001b[39m\u001b[39m\"\u001b[39m\u001b[39mAEIE 3RD YEAR RESULT\u001b[39m\u001b[39m\"\u001b[39m,shadow\u001b[39m=\u001b[39m\u001b[39mTrue\u001b[39;00m)\n",
      "File \u001b[1;32mc:\\Users\\soumy\\anaconda3\\Lib\\site-packages\\pandas\\__init__.py:264\u001b[0m, in \u001b[0;36m__getattr__\u001b[1;34m(name)\u001b[0m\n\u001b[0;32m    260\u001b[0m     \u001b[39mfrom\u001b[39;00m \u001b[39mpandas\u001b[39;00m\u001b[39m.\u001b[39;00m\u001b[39mcore\u001b[39;00m\u001b[39m.\u001b[39;00m\u001b[39marrays\u001b[39;00m\u001b[39m.\u001b[39;00m\u001b[39msparse\u001b[39;00m \u001b[39mimport\u001b[39;00m SparseArray \u001b[39mas\u001b[39;00m _SparseArray\n\u001b[0;32m    262\u001b[0m     \u001b[39mreturn\u001b[39;00m _SparseArray\n\u001b[1;32m--> 264\u001b[0m \u001b[39mraise\u001b[39;00m \u001b[39mAttributeError\u001b[39;00m(\u001b[39mf\u001b[39m\u001b[39m\"\u001b[39m\u001b[39mmodule \u001b[39m\u001b[39m'\u001b[39m\u001b[39mpandas\u001b[39m\u001b[39m'\u001b[39m\u001b[39m has no attribute \u001b[39m\u001b[39m'\u001b[39m\u001b[39m{\u001b[39;00mname\u001b[39m}\u001b[39;00m\u001b[39m'\u001b[39m\u001b[39m\"\u001b[39m)\n",
      "\u001b[1;31mAttributeError\u001b[0m: module 'pandas' has no attribute 'series'"
     ]
    }
   ],
   "source": [
    "import pandas as pd\n",
    "import matplotlib.pyplot as plt\n",
    "class DataSeries:\n",
    "    def pandaSeries():\n",
    "        arr_1 = []\n",
    "        n = int(input(\"Enter the size of the Array : \"))\n",
    "        for x in range(0,n):\n",
    "            y=float(input(\"Enter the Percentage : \"))\n",
    "            arr_1.append(y)\n",
    "        \n",
    "        arr_2 = []\n",
    "        for x in range(0,n):\n",
    "            y=input(\"Enter the Names : \")\n",
    "            arr_2.append(y)\n",
    "        \n",
    "        b= pd.series(arr_1 , index= arr_2)\n",
    "        print(b)\n",
    "\n",
    "        b.plot.pie(title=\"AEIE 3RD YEAR RESULT\",shadow=True)\n",
    "        plt.legend()\n",
    "        plt.show()\n",
    "        \n",
    "DataSeries.pandaSeries()\n",
    "  "
   ]
  }
 ],
 "metadata": {
  "kernelspec": {
   "display_name": "Python 3",
   "language": "python",
   "name": "python3"
  },
  "language_info": {
   "codemirror_mode": {
    "name": "ipython",
    "version": 3
   },
   "file_extension": ".py",
   "mimetype": "text/x-python",
   "name": "python",
   "nbconvert_exporter": "python",
   "pygments_lexer": "ipython3",
   "version": "3.11.3"
  },
  "orig_nbformat": 4
 },
 "nbformat": 4,
 "nbformat_minor": 2
}
